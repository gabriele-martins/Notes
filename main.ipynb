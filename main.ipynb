{
 "cells": [
  {
   "cell_type": "markdown",
   "metadata": {},
   "source": [
    "# Conversão do arquivo para MP3\n",
    "\n",
    "Antes de efetuar o processamento, eu decidi efetuar a conversão do arquivo de vídeo para áudio, já que para nós o que é relevante é apenas o áudio para no futuro converter em texto.\n",
    "\n",
    "Para isso eu estou utilizando a lib moviepy que já tinha sido utilizada no outro script, já que ela faz muito bem essa conversão."
   ]
  },
  {
   "cell_type": "code",
   "execution_count": null,
   "metadata": {},
   "outputs": [],
   "source": [
    "!pip install moviepy"
   ]
  },
  {
   "cell_type": "code",
   "execution_count": null,
   "metadata": {},
   "outputs": [],
   "source": [
    "from moviepy.editor import VideoFileClip\n",
    "\n",
    "def convert_video_to_audio(video_file, output_file, extension):\n",
    "    video = VideoFileClip(video_file)\n",
    "    audio = video.audio\n",
    "\n",
    "    audio.write_audiofile(output_file, codec=extension)\n",
    "\n",
    "    video.close()\n",
    "    audio.close()\n",
    "\n",
    "extension = 'mp3'\n",
    "video_file = 'data/big-o.mp4'\n",
    "audio_file = 'audio/big-o.{}'.format(extension)\n",
    "\n",
    "convert_video_to_audio(video_file, audio_file, extension)"
   ]
  },
  {
   "cell_type": "markdown",
   "metadata": {},
   "source": [
    "## Bibliotecas para criar as chunks de áudio\n",
    "\n",
    "Para cortar o arquivo de áudio em vários arquivo eu decidi utilizar a lib do python `pydub`, já que ela consegue efetuar com mais facilidade esse processo."
   ]
  },
  {
   "cell_type": "code",
   "execution_count": null,
   "metadata": {},
   "outputs": [],
   "source": [
    "!pip install pydub"
   ]
  },
  {
   "cell_type": "markdown",
   "metadata": {},
   "source": [
    "## Efetuando o corte do áudio\n",
    "\n",
    "Nessa etapa eu estou fazendo a busca do conteúdo de áudio e definindo através de `ms` o tamanho do conteúdo definido pela constante `CHUNK_LENGTH`.\n",
    "\n",
    "Para isso é necessário instalar o módulo ffmpeg para que ele possa trabalhar com o arquivo de áudio, aqui está um breve guia de instalação.\n",
    "\n",
    "* No Ubuntu/Debian\n",
    "```bash\n",
    "sudo apt install ffmpeg\n",
    "```\n",
    "\n",
    "* No macOS (usando Homebrew):\n",
    "```bash\n",
    "brew install ffmpeg\n",
    "```\n",
    "\n",
    "* No Windows:\n",
    "Baixe 'ffmpeg' (aqui)[https://ffmpeg.org/download.html]\n",
    "Extraia os arquivos e adicione o caminho para a pasta `bin` do  `ffmpeg` à variável de ambiente `PATH`.\n",
    "\n",
    "* Verifique a instalação:\n",
    "Depois que instalar, você pode verificar se o módulo está instalado corretamente executando:\n",
    "```bash\n",
    "ffmpeg -version\n",
    "```"
   ]
  },
  {
   "cell_type": "code",
   "execution_count": null,
   "metadata": {},
   "outputs": [],
   "source": [
    "import os\n",
    "from pydub import AudioSegment\n",
    "\n",
    "CHUNK_MINUTES = 3\n",
    "\n",
    "def split_audio(file_path, output_folder):\n",
    "    chunk_length = CHUNK_MINUTES * 60 * 1000\n",
    "\n",
    "    file_name, file_extension = os.path.splitext(file_path)\n",
    "    output_format = file_extension.lstrip('.').lower()\n",
    "\n",
    "    audio = AudioSegment.from_file(file_path)\n",
    "    duration = len(audio)\n",
    "\n",
    "    chunks_number = duration // chunk_length + (1 if duration % chunk_length else 0)\n",
    "    \n",
    "    for i in range(chunks_number):\n",
    "        start_time = i * chunk_length\n",
    "        end_time = min((i + 1) * chunk_length, duration)\n",
    "\n",
    "        chunk = audio[start_time:end_time]\n",
    "        chunk_name = f\"part_{i + 1}.{output_format}\"\n",
    "\n",
    "        if not os.path.exists(output_folder):\n",
    "            os.makedirs(output_folder)\n",
    "        \n",
    "        chunk.export(os.path.join(output_folder, chunk_name), format=output_format)\n",
    "        print(f\"Gerou {chunk_name} de {file_name}\")\n",
    "\n",
    "\n",
    "file_path = \"audio/big-o.mp3\"\n",
    "output_folder = \"chunks\"\n",
    "\n",
    "split_audio(file_path, output_folder)\n",
    "\n"
   ]
  },
  {
   "cell_type": "markdown",
   "metadata": {},
   "source": [
    "# Convertendo cada parte dos áudios em textos\n",
    "\n",
    "Depois de cortar o arquivo de áudio em vários pedaços, nós vamos pegar cada um desses arquivos e convertê-los em um resumo para que seja processado. Para isso eu peguei cada um dos arquivos que foram adicionados na pasta chunks, a partir disso eu estou usando processamento paralelo em threads para que ele processe de 5 em 5 arquivos, e depois criar um arquivo final com todo o conteúdo extraído dos áudios."
   ]
  },
  {
   "cell_type": "code",
   "execution_count": null,
   "metadata": {},
   "outputs": [],
   "source": [
    "!pip install speechrecognition"
   ]
  },
  {
   "cell_type": "code",
   "execution_count": null,
   "metadata": {},
   "outputs": [],
   "source": [
    "import os\n",
    "import uuid\n",
    "import speech_recognition as sr\n",
    "from moviepy.editor import AudioFileClip\n",
    "from datetime import datetime\n",
    "from concurrent.futures import ThreadPoolExecutor\n",
    "\n",
    "ALLOWED_EXTENSIONS = {'.mp3', '.wav', '.flac'}\n",
    "BATCH_SIZE = 5\n",
    "\n",
    "def generate_temp_filename():\n",
    "    timestamp = datetime.now().strftime('%Y%m%d%H%M%S')\n",
    "    unique_id = uuid.uuid4().hex\n",
    "    return f\"temp_{timestamp}_{unique_id}.wav\"\n",
    "\n",
    "def transcribe_audio(audio_path):\n",
    "    recognizer = sr.Recognizer()\n",
    "\n",
    "    audio_clip = AudioFileClip(audio_path)\n",
    "    temp_wav = generate_temp_filename()\n",
    "    audio_clip.write_audiofile(temp_wav, codec='pcm_s16le')\n",
    "\n",
    "    with sr.AudioFile(temp_wav) as source:\n",
    "        audio_data = recognizer.record(source)\n",
    "        try:\n",
    "            return recognizer.recognize_google(audio_data, language=\"pt-BR\")\n",
    "        except sr.UnknownValueError:\n",
    "            return \"[Inaudível]\"\n",
    "        except sr.RequestError as e:\n",
    "            return \"\"\n",
    "        finally:\n",
    "            if os.path.exists(temp_wav):\n",
    "                os.remove(temp_wav)\n",
    "\n",
    "def process_file(file_name, folder_path):\n",
    "    file_path = os.path.join(folder_path, file_name)\n",
    "    if os.path.isfile(file_path):\n",
    "        print(f\"Transcrevendo {file_name}...\")\n",
    "        transcription = transcribe_audio(file_path)\n",
    "        return transcription\n",
    "    return None\n",
    "\n",
    "def transcribe_folder(folder_path):\n",
    "    files = [f for f in sorted(os.listdir(folder_path)) if os.path.isfile(os.path.join(folder_path, f)) and os.path.splitext(f)[1].lower() in ALLOWED_EXTENSIONS]\n",
    "\n",
    "    all_transcriptions = []\n",
    "    with ThreadPoolExecutor(max_workers=BATCH_SIZE) as executor:\n",
    "        futures = [executor.submit(process_file, file, folder_path) for file in files]\n",
    "        for future in futures:\n",
    "            transcription = future.result()\n",
    "            all_transcriptions.append(transcription)\n",
    "\n",
    "    return all_transcriptions\n",
    "\n",
    "def save_transcriptions(transcriptions, output_folder):\n",
    "    os.makedirs(output_folder, exist_ok=True)\n",
    "    \n",
    "    output_file = os.path.join(output_folder, \"transcriptions.txt\")\n",
    "    with open(output_file, 'w', encoding='utf-8') as f:\n",
    "        for transcription in transcriptions:\n",
    "            f.write(f\"\\n{transcription}\\n\")\n",
    "\n",
    "input_folder = \"chunks\"\n",
    "output_folder = \"data\"\n",
    "transcriptions = transcribe_folder(input_folder)\n",
    "save_transcriptions(transcriptions, output_folder)\n",
    "\n",
    "print(f\"Transcrições salvas em {os.path.join(output_folder, 'transcriptions.txt')}\")\n"
   ]
  }
 ],
 "metadata": {
  "kernelspec": {
   "display_name": "Python 3",
   "language": "python",
   "name": "python3"
  },
  "language_info": {
   "codemirror_mode": {
    "name": "ipython",
    "version": 3
   },
   "file_extension": ".py",
   "mimetype": "text/x-python",
   "name": "python",
   "nbconvert_exporter": "python",
   "pygments_lexer": "ipython3",
   "version": "3.10.12"
  }
 },
 "nbformat": 4,
 "nbformat_minor": 2
}
